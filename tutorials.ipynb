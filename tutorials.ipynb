{
 "cells": [
  {
   "cell_type": "code",
   "execution_count": 2,
   "metadata": {},
   "outputs": [],
   "source": [
    "import pandas as pd\n",
    "import matplotlib.pyplot as plt\n",
    "import seaborn as sns\n",
    "import os\n",
    "import numpy as np\n",
    "plt.style.use('fivethirtyeight')\n",
    "import warnings\n",
    "warnings.filterwarnings('ignore')"
   ]
  },
  {
   "cell_type": "code",
   "execution_count": 3,
   "metadata": {},
   "outputs": [],
   "source": [
    "os.chdir('/Users/roothoon/Desktop/KBO_baseball_challenge/6th_Competition_data')"
   ]
  },
  {
   "cell_type": "code",
   "execution_count": 4,
   "metadata": {},
   "outputs": [],
   "source": [
    "\n",
    "regular=pd.read_csv(\"Regular_Season_Batter.csv\")\n",
    "regular=regular.loc[~regular['OPS'].isnull(),]\n",
    "submission=pd.read_csv(\"submission.csv\")"
   ]
  },
  {
   "cell_type": "code",
   "execution_count": 5,
   "metadata": {},
   "outputs": [],
   "source": [
    "agg={}\n",
    "for i in regular.columns:\n",
    "    agg[i]=[]\n",
    "for i in submission['batter_name'].unique():\n",
    "    for j in regular.columns:\n",
    "        if j in ['batter_id','batter_name','height/weight','year_born','position','starting_salary']:\n",
    "            agg[j].append(regular.loc[regular['batter_name']==i,j].iloc[0])\n",
    "        elif j=='year':\n",
    "            agg[j].append(2019)\n",
    "        else:\n",
    "            agg[j].append(0)\n",
    "regular=pd.concat([regular,pd.DataFrame(agg)])"
   ]
  },
  {
   "cell_type": "code",
   "execution_count": null,
   "metadata": {},
   "outputs": [],
   "source": []
  }
 ],
 "metadata": {
  "kernelspec": {
   "display_name": "Python 3",
   "language": "python",
   "name": "python3"
  },
  "language_info": {
   "codemirror_mode": {
    "name": "ipython",
    "version": 3
   },
   "file_extension": ".py",
   "mimetype": "text/x-python",
   "name": "python",
   "nbconvert_exporter": "python",
   "pygments_lexer": "ipython3",
   "version": "3.6.5"
  }
 },
 "nbformat": 4,
 "nbformat_minor": 2
}
